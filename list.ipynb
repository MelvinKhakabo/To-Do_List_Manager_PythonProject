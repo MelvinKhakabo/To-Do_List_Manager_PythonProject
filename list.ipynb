{
 "cells": [
  {
   "cell_type": "markdown",
   "metadata": {},
   "source": [
    "# To-Do_List_Manager_PythonProject\n",
    "A command-line to-do list manager that allows users to keep track of tasks.\n",
    "\n",
    "## Objective\n",
    "Build a command-line to-do list manager that allows users to keep track of tasks.\n",
    "\n",
    "## Features\n",
    "Add Tasks:\n",
    "Let the user add tasks with a description and optional due date.\n",
    "\n",
    "View Tasks:\n",
    "Display all tasks with their status (pending or completed).\n",
    "\n",
    "Mark as Completed:\n",
    "Allow users to mark tasks as completed.\n",
    "\n",
    "Delete Tasks:\n",
    "Enable deletion of tasks by their ID or name.\n",
    "\n",
    "Exit and Save:\n",
    "Save tasks to a file so they persist when the program is restarted.\n"
   ]
  },
  {
   "cell_type": "markdown",
   "metadata": {},
   "source": []
  }
 ],
 "metadata": {
  "kernelspec": {
   "display_name": "Python 3",
   "language": "python",
   "name": "python3"
  },
  "language_info": {
   "name": "python",
   "version": "3.13.0"
  }
 },
 "nbformat": 4,
 "nbformat_minor": 2
}
